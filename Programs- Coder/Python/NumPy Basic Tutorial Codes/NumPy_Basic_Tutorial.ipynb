{
  "nbformat": 4,
  "nbformat_minor": 0,
  "metadata": {
    "colab": {
      "provenance": [],
      "collapsed_sections": [],
      "toc_visible": true
    },
    "kernelspec": {
      "name": "python3",
      "display_name": "Python 3"
    },
    "language_info": {
      "name": "python"
    }
  },
  "cells": [
    {
      "cell_type": "markdown",
      "source": [
        "# **NumPy Basic Tutorial**\n"
      ],
      "metadata": {
        "id": "VHFbXaTY7aC8"
      }
    },
    {
      "cell_type": "markdown",
      "source": [
        "\n",
        "## Prerequisites\n",
        "- Basic Python knowledge.\n",
        "- Rudimentary understanding on the working of computers. \n",
        "- Fundamental linear algebra know-how"
      ],
      "metadata": {
        "id": "JyB0XijvHzeW"
      }
    },
    {
      "cell_type": "markdown",
      "source": [
        "## Introduction\n",
        "\n",
        "### **What is NumPy?**\n",
        "\n",
        "NumPy is short for \"Numerical Python\". It was created in 2005 by Travis Oliphant as an open source project to be used freely. The official documentation for NumPy defines NumPy as \"the fundamental package for scientific computing in Python.\"\n",
        "\n",
        "*So, NumPy is simply a Python library.*\n",
        "\n",
        "It's essential importance is highlighted by it's ability to provide an efficient and convenient method to work with arrays. It is a Python library that provides a multidimensional array object and various other derived objects along with a mixed bag of routines for quick operations on arrays such as mathematics, sorting, shape manipulation, basic linear algebra, basic statistical operations, random simulation to name a few.\n",
        "\n",
        "As w3schools puts it aptly,\n",
        "\n",
        "- NumPy is a Python library.\n",
        "- NumPy is used for working with arrays.\n",
        "- NumPy is short for \"Numerical Python\"."
      ],
      "metadata": {
        "id": "sB02vU9nHqf3"
      }
    },
    {
      "cell_type": "markdown",
      "source": [
        "### **Why NumPy?**\n",
        "\n",
        "A question that often crops up in the minds of novice implementers of this library is why do we opt to use NumPy when Python has already graced us with it's in-built implementation of arrays in the form of `lists`.\n",
        "\n",
        "NumPy aims to provide an array object which is **50 times faster than traditional Python lists**; not to mention the plethora of supporting functions that makes working with `ndarrays` (array objects in NumPy) so much more advantageous.\n",
        "\n",
        "#### **Why is NumPy just so quick in comparision to Lists?**\n",
        "\n",
        "NumPy arrays are stored at one continuous place in memory unlike lists, and it is this contiguous storage that allows efficient access and manipulation of arrays."
      ],
      "metadata": {
        "id": "kLr9hPDr_Mui"
      }
    },
    {
      "cell_type": "markdown",
      "source": [
        "### **Other notable differences between NumPy arrays and standard Python lists/sequences**\n",
        "\n",
        "- NumPy arrays have a fixed size at creation. Conversely, Python lists do not; opting for changing size by growing dynamically. Changing the size of an `ndarray` in turn, requires the creation of a new array and deleting the original.\n",
        "\n",
        "- The elements in a NumPy array are all required to be of the same data type, and thus take up exactly the same size in memory.\n",
        "\n",
        "- As mentioned earlier, NumPy arrays enables numerous operations on arrays always executed more efficiently and with less code than it's in-built Python counterpart.\n",
        "\n",
        "- A growing torrent of other scientific and mathematical Python-based packages/libraries use NumPy arrays. They often convert input to NumPy arrays prior to processing, often outputting NumPy arrays. Thus, cementing NumPy's place as an essential package in the Python community. "
      ],
      "metadata": {
        "id": "_NDfHhiTEJ4X"
      }
    },
    {
      "cell_type": "markdown",
      "source": [
        "## Installation\n",
        "\n",
        "Assumes that you have Python and PIP already installed on your systems.\n",
        "\n",
        "Install NumPy using the following command on your terminal:\n",
        "\n",
        "`pip install numpy`\n",
        "\n",
        "If the command fails, then use a python distribution that has NumPy pre-installed like Anaconda, Spyder, etc.\n",
        "\n",
        "Alternatively, you can also use online Jupyter Notebook Environments like Google Colab, Kaggle that have NumPy pre-installed. Such environments allow anyone to write and execute python code through the browser by running entirely in the cloud. "
      ],
      "metadata": {
        "id": "GWM2s7_mJdZY"
      }
    },
    {
      "cell_type": "markdown",
      "source": [
        "## Tutorial"
      ],
      "metadata": {
        "id": "tYUZ69AcICb6"
      }
    },
    {
      "cell_type": "markdown",
      "source": [
        "### **Importing NumPy**\n",
        "\n",
        "On successful installation, import NumPy in your projects by adding the `import` keyword."
      ],
      "metadata": {
        "id": "dhD1zG54LQ8s"
      }
    },
    {
      "cell_type": "code",
      "source": [
        "import numpy\n",
        "\n",
        "arr = numpy.array([1, 2, 3])\n",
        "print(arr)"
      ],
      "metadata": {
        "colab": {
          "base_uri": "https://localhost:8080/"
        },
        "id": "4y_AxgZsEZKM",
        "outputId": "fe87b3e4-0c59-4218-877d-412ada443c68"
      },
      "execution_count": 1,
      "outputs": [
        {
          "output_type": "stream",
          "name": "stdout",
          "text": [
            "[1 2 3]\n"
          ]
        }
      ]
    },
    {
      "cell_type": "markdown",
      "source": [
        "### **Importing NumPy as `np`**\n",
        "\n",
        "NumPy is generally imported under the alias `np`. An alias, for those unaware, works exactly like an alternate name. This alias has been universally accepted by the Python community and you are bound to find this alias being used almost every place where NumPy is being used. It also saves us the hastle of typing out the entire name while refering to the library. \n",
        "\n",
        "An alias is created by using the `as` keyword while importing:"
      ],
      "metadata": {
        "id": "3ZRGDOiuMQsz"
      }
    },
    {
      "cell_type": "code",
      "source": [
        "import numpy as np\n",
        "\n",
        "arr = np.array([1, 2, 3])\n",
        "print(arr)"
      ],
      "metadata": {
        "colab": {
          "base_uri": "https://localhost:8080/"
        },
        "id": "0h3IiP0mNPy9",
        "outputId": "f703cbb8-a12b-46f8-9954-3b4b80cd4d9e"
      },
      "execution_count": 2,
      "outputs": [
        {
          "output_type": "stream",
          "name": "stdout",
          "text": [
            "[1 2 3]\n"
          ]
        }
      ]
    },
    {
      "cell_type": "markdown",
      "source": [
        "### **Checking NumPy Version**"
      ],
      "metadata": {
        "id": "9zpdGPbcN-0T"
      }
    },
    {
      "cell_type": "code",
      "source": [
        "print(np.__version__)"
      ],
      "metadata": {
        "colab": {
          "base_uri": "https://localhost:8080/"
        },
        "id": "Du2r8mjeOJIU",
        "outputId": "5b9c074a-61fc-4adb-f697-2c86f681204a"
      },
      "execution_count": 3,
      "outputs": [
        {
          "output_type": "stream",
          "name": "stdout",
          "text": [
            "1.21.6\n"
          ]
        }
      ]
    },
    {
      "cell_type": "markdown",
      "source": [
        "### **Creating a NumPy `ndarray` Object**\n",
        "A few codeblocks ago, we created the `ndarray` by using the `array()` function. It accepts a `list`, `tuple` or any array-like object as a parameter and converts it into an `ndarray`. We can chefck the type of the object by using the built-in `type()` function."
      ],
      "metadata": {
        "id": "hfZ59QOKOO8r"
      }
    },
    {
      "cell_type": "code",
      "source": [
        "arr1 = np.array([1, 2, 3])\n",
        "arr2 = np.array((4, 5, 6))\n",
        "print(f\"arr1: {arr1}\")\n",
        "print(f\"arr2: {arr2}\")\n",
        "print(f\"arr1 type: {type(arr1)}\")\n",
        "print(f\"arr2 type: {type(arr2)}\")"
      ],
      "metadata": {
        "colab": {
          "base_uri": "https://localhost:8080/"
        },
        "id": "ml6dvPr-PER3",
        "outputId": "8ceb7969-bf3d-42f0-8a2c-14859ba24b42"
      },
      "execution_count": 4,
      "outputs": [
        {
          "output_type": "stream",
          "name": "stdout",
          "text": [
            "arr1: [1 2 3]\n",
            "arr2: [4 5 6]\n",
            "arr1 type: <class 'numpy.ndarray'>\n",
            "arr2 type: <class 'numpy.ndarray'>\n"
          ]
        }
      ]
    },
    {
      "cell_type": "markdown",
      "source": [
        "### **Dimensions in Arrays**\n",
        "Dimensions in arrays is implemented by using nested arrays, a.k.a., arrays that have arrays as their elements.\n",
        "\n",
        "Let's explore this in greater detail starting with:"
      ],
      "metadata": {
        "id": "fSgo1kWzP4vK"
      }
    },
    {
      "cell_type": "markdown",
      "source": [
        "#### **O-D Arrays**\n",
        "0-D arrays are nothing but scalars in mathematical terms. NumPy arrays provide the `ndim` attribute that returns an integer telling us how many dimensions the array have. "
      ],
      "metadata": {
        "id": "T1CL4tw1QX6C"
      }
    },
    {
      "cell_type": "code",
      "source": [
        "arr = np.array(8)\n",
        "print(f\"arr: {arr}\")\n",
        "print(f\"\\nNumber of Dimension/s: {arr.ndim}\")"
      ],
      "metadata": {
        "colab": {
          "base_uri": "https://localhost:8080/"
        },
        "id": "DM3QrGInQtxJ",
        "outputId": "84b0117d-4c2a-4cd9-d414-8acc5582d875"
      },
      "execution_count": 5,
      "outputs": [
        {
          "output_type": "stream",
          "name": "stdout",
          "text": [
            "arr: 8\n",
            "\n",
            "Number of Dimension/s: 0\n"
          ]
        }
      ]
    },
    {
      "cell_type": "markdown",
      "source": [
        "#### **1-D Arrays**\n",
        "\n",
        "1-D arrays are arrays that have 0-D arrays as it's elements. Also refered to as uni-dimensional arrays."
      ],
      "metadata": {
        "id": "bqf2DhhjQ9Wq"
      }
    },
    {
      "cell_type": "code",
      "source": [
        "arr = np.array([1, 2, 3])\n",
        "print(f\"arr: {arr}\")\n",
        "print(f\"\\nNumber of Dimension/s: {arr.ndim}\")"
      ],
      "metadata": {
        "colab": {
          "base_uri": "https://localhost:8080/"
        },
        "id": "aRhpfrwRROM6",
        "outputId": "170ea875-dddd-4e6b-da0c-67f38c8703f7"
      },
      "execution_count": 6,
      "outputs": [
        {
          "output_type": "stream",
          "name": "stdout",
          "text": [
            "arr: [1 2 3]\n",
            "\n",
            "Number of Dimension/s: 1\n"
          ]
        }
      ]
    },
    {
      "cell_type": "markdown",
      "source": [
        "#### **2-D Arrays**\n",
        "An array that has 1-D arrays as it's elements is a 2-D array. Often used to represent matrices or 2nd order tensors."
      ],
      "metadata": {
        "id": "-QazbKCxRZ5B"
      }
    },
    {
      "cell_type": "code",
      "source": [
        "arr = np.array([[1, 2, 3], [4, 5, 6]])\n",
        "print(f\"arr: {arr}\")\n",
        "print(f\"\\nNumber of Dimension/s: {arr.ndim}\")"
      ],
      "metadata": {
        "colab": {
          "base_uri": "https://localhost:8080/"
        },
        "id": "-7ZlO8CCRpfC",
        "outputId": "efa2c2a8-f512-420a-cc99-f469acc1778d"
      },
      "execution_count": 7,
      "outputs": [
        {
          "output_type": "stream",
          "name": "stdout",
          "text": [
            "arr: [[1 2 3]\n",
            " [4 5 6]]\n",
            "\n",
            "Number of Dimension/s: 2\n"
          ]
        }
      ]
    },
    {
      "cell_type": "markdown",
      "source": [
        "#### **3-D Arrays**\n",
        "An array that has 2-D arrays, i.e., matrices as it's elements is called a 3-D array. Used to represent 3rd order tensors."
      ],
      "metadata": {
        "id": "sa59FJfaUtwU"
      }
    },
    {
      "cell_type": "code",
      "source": [
        "arr = np.array([[[1, 2, 3], [4, 5, 6]], [[1, 2, 3], [4, 5, 6]]])\n",
        "print(f\"arr: {arr}\")\n",
        "print(f\"\\nNumber of Dimension/s: {arr.ndim}\")"
      ],
      "metadata": {
        "colab": {
          "base_uri": "https://localhost:8080/"
        },
        "id": "aRgr5kzAU-CG",
        "outputId": "3c5458b6-fba3-46f4-81bc-600d6ecc9810"
      },
      "execution_count": 8,
      "outputs": [
        {
          "output_type": "stream",
          "name": "stdout",
          "text": [
            "arr: [[[1 2 3]\n",
            "  [4 5 6]]\n",
            "\n",
            " [[1 2 3]\n",
            "  [4 5 6]]]\n",
            "\n",
            "Number of Dimension/s: 3\n"
          ]
        }
      ]
    },
    {
      "cell_type": "markdown",
      "source": [
        "#### **Higher Dimensional Arrays**\n",
        "Arrays can obviously be n-dimensional, a fact highlighted by the name given to arrays in NumPy. This higher dimensionality can be explicitly stated to NumPy by using the `ndmin` argument."
      ],
      "metadata": {
        "id": "4LOtZevDVdLK"
      }
    },
    {
      "cell_type": "code",
      "source": [
        "arr = np.array([1, 2, 3], ndmin = 8)\n",
        "print(f\"arr: {arr}\")\n",
        "print(f\"\\nNumber of Dimension/s: {arr.ndim}\")"
      ],
      "metadata": {
        "colab": {
          "base_uri": "https://localhost:8080/"
        },
        "id": "EsMQcJ8nVzsJ",
        "outputId": "298b7b44-47a4-4a51-d58f-16b44e14eced"
      },
      "execution_count": 9,
      "outputs": [
        {
          "output_type": "stream",
          "name": "stdout",
          "text": [
            "arr: [[[[[[[[1 2 3]]]]]]]]\n",
            "\n",
            "Number of Dimension/s: 8\n"
          ]
        }
      ]
    },
    {
      "cell_type": "markdown",
      "source": [
        "### **NumPy Array Indexing**\n",
        "Array indexing, just like List indexing, is used to access an array element. The indexes in NumPy are also zero-indexed, i.e., the first element has index 0, and the second element has index 1, so on and so forth."
      ],
      "metadata": {
        "id": "fjTWlvsiWOap"
      }
    },
    {
      "cell_type": "code",
      "source": [
        "arr = np.array([1, 2, 3])\n",
        "print(f\"1-st element: {arr[0]}\")\n",
        "print(f\"2-nd element: {arr[1]}\")"
      ],
      "metadata": {
        "colab": {
          "base_uri": "https://localhost:8080/"
        },
        "id": "p7TouZpzW6O5",
        "outputId": "cfa2a8e1-52da-443b-d0fb-0cad07e35025"
      },
      "execution_count": 10,
      "outputs": [
        {
          "output_type": "stream",
          "name": "stdout",
          "text": [
            "1-st element: 1\n",
            "2-nd element: 2\n"
          ]
        }
      ]
    },
    {
      "cell_type": "markdown",
      "source": [
        "2-D and higher dimensional arrays are represented by using comma separated integers which represents the dimension and the index of the element. \n",
        "\n",
        "2-D arrays work like a table/matrice, the first dimension is the row and the index represents the column.\n",
        "\n",
        "It can also be indexed by first slicing the required dimension and slicing the element from that dimension. Slicing will be gone over in much greater detail coming up."
      ],
      "metadata": {
        "id": "WDHAMW4_XNfD"
      }
    },
    {
      "cell_type": "code",
      "source": [
        "arr1 = np.array([[1, 2, 3], [4, 5, 6]])\n",
        "print(f\"1-st element on 2-nd row of arr1: {arr1[1, 0]}\")\n",
        "print(f\"1-st element on 2-nd row of arr1 (By Slicing): {arr1[1][0]}\")"
      ],
      "metadata": {
        "colab": {
          "base_uri": "https://localhost:8080/"
        },
        "id": "F5P5pCHgXM9C",
        "outputId": "6a9fa86c-7423-408d-f022-de05272a15a6"
      },
      "execution_count": 11,
      "outputs": [
        {
          "output_type": "stream",
          "name": "stdout",
          "text": [
            "1-st element on 2-nd row of arr1: 4\n",
            "1-st element on 2-nd row of arr1 (By Slicing): 4\n"
          ]
        }
      ]
    },
    {
      "cell_type": "markdown",
      "source": [
        "Accessing 3-D Arrays has been explained in great detail by w3schools and it is as follows:"
      ],
      "metadata": {
        "id": "Lb_i9mRgYSrx"
      }
    },
    {
      "cell_type": "code",
      "source": [
        "arr = np.array([[[1, 2, 3], [4, 5, 6]], [[7, 8, 9], [10, 11, 12]]])\n",
        "print(arr[0, 1, 2])"
      ],
      "metadata": {
        "colab": {
          "base_uri": "https://localhost:8080/"
        },
        "id": "i6LC1pcmYboQ",
        "outputId": "a6eb6cf2-fe9b-4760-9348-3ad4af0deb77"
      },
      "execution_count": 12,
      "outputs": [
        {
          "output_type": "stream",
          "name": "stdout",
          "text": [
            "6\n"
          ]
        }
      ]
    },
    {
      "cell_type": "markdown",
      "source": [
        "#### **Example Explained**\n",
        "`arr[0, 1, 2]` prints the value `6`.\n",
        "\n",
        "And this is why:\n",
        "\n",
        "The first number represents the first dimension, which contains two arrays:\n",
        "\n",
        "[[1, 2, 3], [4, 5, 6]]\n",
        "\n",
        "and:\n",
        "\n",
        "[[7, 8, 9], [10, 11, 12]]\n",
        "\n",
        "Since we selected `0`, we are left with the first array:\n",
        "\n",
        "[[1, 2, 3], [4, 5, 6]]\n",
        "\n",
        "The second number represents the second dimension, which also contains two arrays:\n",
        "\n",
        "[1, 2, 3]\n",
        "\n",
        "and:\n",
        "\n",
        "[4, 5, 6]\n",
        "\n",
        "Since we selected `1`, we are left with the second array:\n",
        "\n",
        "[4, 5, 6]\n",
        "\n",
        "The third number represents the third dimension, which contains three values:\n",
        "\n",
        "4\n",
        "\n",
        "5\n",
        "\n",
        "6\n",
        "\n",
        "Since we selected `2`, we end up with the third value:\n",
        "\n",
        "6"
      ],
      "metadata": {
        "id": "f7nMqQX8YenA"
      }
    },
    {
      "cell_type": "markdown",
      "source": [
        "#### **Negative Indexing**\n",
        "Used to access an array from it's ends."
      ],
      "metadata": {
        "id": "Qic1OLYVY9TZ"
      }
    },
    {
      "cell_type": "code",
      "source": [
        "arr = np.array([[1, 2, 3], [4, 5, 6]])\n",
        "print(f\"Last element of last row: {arr[-1, -1]}\")"
      ],
      "metadata": {
        "colab": {
          "base_uri": "https://localhost:8080/"
        },
        "id": "1LKvhQOzZUXQ",
        "outputId": "81c87745-7169-4d62-ce51-d3bcb8aa3241"
      },
      "execution_count": 13,
      "outputs": [
        {
          "output_type": "stream",
          "name": "stdout",
          "text": [
            "Last element of last row: 6\n"
          ]
        }
      ]
    },
    {
      "cell_type": "markdown",
      "source": [
        "### **NumPy Array Slicing**\n",
        "\n",
        "Similar to List slicing in it's definition.\n",
        "\n",
        "Takes the form `[start:end]`\n",
        "\n",
        "If step is to be included, the form is modified as `[start:end:step]`\n",
        "\n",
        "- If start is not passed, it is considered as 0. \n",
        "\n",
        "- If end is not passed, it is considered as the length of the array for that dimension.\n",
        "\n",
        "- The default value for step is 1.\n",
        "\n",
        "Negative slicing is also supported.\n",
        "\n",
        "**Point of great importance: The start index is included, i.e., the element at that index will a part of the output, while the end index is not included, i.e., the element at that index is not a part of the output.** "
      ],
      "metadata": {
        "id": "pG4lzmq6alSh"
      }
    },
    {
      "cell_type": "code",
      "source": [
        "arr = np.array([1, 2, 3, 4, 5, 6, 7, 8])\n",
        "print(arr)\n",
        "print(f\"Elements from index-1 to index-5: {arr[1:5]}\")\n",
        "print(f\"Elements from index-5 to the end of the array: {arr[5:]}\")\n",
        "print(f\"Elements from the beginning to index-5 (not included): {arr[5:]}\")\n",
        "print(f\"Elements from index-5 from the end to index-1 from the end: {arr[-5:-1]}\")\n",
        "print(f\"Every other element from index-1 to index-5: {arr[1:5:2]}\")\n",
        "\n",
        "\n",
        "arr = np.array([[1, 2, 3, 4, 5], [6, 7, 8, 9, 10]])\n",
        "print(\"\\n\", arr)\n",
        "print(f\"From the first row, elements from index-1 to index-5: {arr[0, 1:5]}\")\n",
        "print(f\"From both rows, elements from index-1 to index-3: {arr[0:, 1:3]}\")"
      ],
      "metadata": {
        "colab": {
          "base_uri": "https://localhost:8080/"
        },
        "id": "5_LIXfv3bfsA",
        "outputId": "081d2003-fbbe-4d0c-bac0-ec3f0a024783"
      },
      "execution_count": 14,
      "outputs": [
        {
          "output_type": "stream",
          "name": "stdout",
          "text": [
            "[1 2 3 4 5 6 7 8]\n",
            "Elements from index-1 to index-5: [2 3 4 5]\n",
            "Elements from index-5 to the end of the array: [6 7 8]\n",
            "Elements from the beginning to index-5 (not included): [6 7 8]\n",
            "Elements from index-5 from the end to index-1 from the end: [4 5 6 7]\n",
            "Every other element from index-1 to index-5: [2 4]\n",
            "\n",
            " [[ 1  2  3  4  5]\n",
            " [ 6  7  8  9 10]]\n",
            "From the first row, elements from index-1 to index-5: [2 3 4 5]\n",
            "From both rows, elements from index-1 to index-3: [[2 3]\n",
            " [7 8]]\n"
          ]
        }
      ]
    },
    {
      "cell_type": "markdown",
      "source": [
        "### **NumPy Array Iterating**\n",
        "\n",
        "Similar to iterating through Python lists/tuples.\n",
        "\n",
        "Iterating, to the unintiated, is going through each elements one by one. Implemented using the trusted `for` loop. Best understood by taking up multiple examples."
      ],
      "metadata": {
        "id": "wPN4qYb-f3UX"
      }
    },
    {
      "cell_type": "code",
      "source": [
        "arr = np.array([1, 2, 3])\n",
        "\n",
        "print(\"Iterating through a 1-D array (on the elements):\")\n",
        "for x in arr:\n",
        "  print(x)\n"
      ],
      "metadata": {
        "colab": {
          "base_uri": "https://localhost:8080/"
        },
        "id": "AMjcQO5agYNI",
        "outputId": "339d2694-3106-4717-c5ff-624b184530ce"
      },
      "execution_count": 15,
      "outputs": [
        {
          "output_type": "stream",
          "name": "stdout",
          "text": [
            "Iterating through a 1-D array (on the elements):\n",
            "1\n",
            "2\n",
            "3\n"
          ]
        }
      ]
    },
    {
      "cell_type": "code",
      "source": [
        "arr = np.array([[1, 2, 3], [4, 5, 6]])\n",
        "print(\"Iterating through a 2-D array (on the elements):\")\n",
        "for x in arr:\n",
        "  print(x)\n"
      ],
      "metadata": {
        "colab": {
          "base_uri": "https://localhost:8080/"
        },
        "id": "wHl4RZqLhjC2",
        "outputId": "3fa3f5a3-66c2-4f97-b929-92aabe69a34d"
      },
      "execution_count": 16,
      "outputs": [
        {
          "output_type": "stream",
          "name": "stdout",
          "text": [
            "Iterating through a 2-D array (on the elements):\n",
            "[1 2 3]\n",
            "[4 5 6]\n"
          ]
        }
      ]
    },
    {
      "cell_type": "markdown",
      "source": [
        "As seen, the loop iterates through each row instead of each scalar element. This is demonstrated by the loop printing the row entirely, instead of the scalars it contains individually. Therefore, if we iterate on a n-D array, it will go through n-1th dimension one by one. To return the actual values, i.e. scalars, follow the following piece of code."
      ],
      "metadata": {
        "id": "iniQEx9ohhCu"
      }
    },
    {
      "cell_type": "code",
      "source": [
        "arr = np.array([[1, 2, 3], [4, 5, 6]])\n",
        "\n",
        "for x in arr:\n",
        "  for y in x:\n",
        "    print(y)"
      ],
      "metadata": {
        "colab": {
          "base_uri": "https://localhost:8080/"
        },
        "id": "5rJG26uIhsin",
        "outputId": "4160182b-7cbc-4926-869c-960787d5eb64"
      },
      "execution_count": 17,
      "outputs": [
        {
          "output_type": "stream",
          "name": "stdout",
          "text": [
            "1\n",
            "2\n",
            "3\n",
            "4\n",
            "5\n",
            "6\n"
          ]
        }
      ]
    },
    {
      "cell_type": "markdown",
      "source": [
        "Same concept applies for 3-D and higher dimensional arrays."
      ],
      "metadata": {
        "id": "SPQ3j0gRiFaV"
      }
    },
    {
      "cell_type": "code",
      "source": [
        "arr = np.array([[[1, 2, 3], [4, 5, 6]], [[7, 8, 9], [10, 11, 12]]])\n",
        "\n",
        "for x in arr:\n",
        "  print(x)"
      ],
      "metadata": {
        "colab": {
          "base_uri": "https://localhost:8080/"
        },
        "id": "EobZnMnFiKTe",
        "outputId": "56dbd54b-0afe-4043-f1e2-7f5454f814aa"
      },
      "execution_count": 18,
      "outputs": [
        {
          "output_type": "stream",
          "name": "stdout",
          "text": [
            "[[1 2 3]\n",
            " [4 5 6]]\n",
            "[[ 7  8  9]\n",
            " [10 11 12]]\n"
          ]
        }
      ]
    },
    {
      "cell_type": "code",
      "source": [
        "arr = np.array([[[1, 2, 3], [4, 5, 6]], [[7, 8, 9], [10, 11, 12]]])\n",
        "\n",
        "for x in arr:\n",
        "  for y in x:\n",
        "    for z in y:\n",
        "      print(z)"
      ],
      "metadata": {
        "colab": {
          "base_uri": "https://localhost:8080/"
        },
        "id": "BW6b7FqUiLEu",
        "outputId": "1f969da7-9440-48e5-aa93-5b7939eed3df"
      },
      "execution_count": 19,
      "outputs": [
        {
          "output_type": "stream",
          "name": "stdout",
          "text": [
            "1\n",
            "2\n",
            "3\n",
            "4\n",
            "5\n",
            "6\n",
            "7\n",
            "8\n",
            "9\n",
            "10\n",
            "11\n",
            "12\n"
          ]
        }
      ]
    },
    {
      "cell_type": "markdown",
      "source": [
        "### **NumPy Array Shape**\n",
        "The shape of an array is the number of elements in each dimension.\n",
        "\n",
        "To know the shape of an `ndarray`, we can tap into it's shape attribute that returns a tuple with the index representing the corresponding dimension and the number at that index representing the number of corresponding elements in that respective dimension.\n"
      ],
      "metadata": {
        "id": "b6STBHnfipeF"
      }
    },
    {
      "cell_type": "code",
      "source": [
        "arr = np.array([[1, 2, 3, 4, 5], [6, 7, 8, 9, 10]])\n",
        "print(f\"arr shape: {arr.shape}\")"
      ],
      "metadata": {
        "colab": {
          "base_uri": "https://localhost:8080/"
        },
        "id": "Cfy0NTxejVDI",
        "outputId": "b7f5a9f4-f4de-4bc0-e3e6-1a741f0b6761"
      },
      "execution_count": 20,
      "outputs": [
        {
          "output_type": "stream",
          "name": "stdout",
          "text": [
            "arr shape: (2, 5)\n"
          ]
        }
      ]
    },
    {
      "cell_type": "markdown",
      "source": [
        "(2, 5) demonstrates that the array has 2 dimensions (indicated by the number of elements in the tuple). The first dimension contains 2 elements (corresponding to the 2 rows in the above example) and the second has 5 (5 columns)."
      ],
      "metadata": {
        "id": "XxCvOJjVjpS1"
      }
    },
    {
      "cell_type": "markdown",
      "source": [
        "### **NumPy Array Copy and View**\n",
        "What are these 2 new elusive terms? By nomenclature, it is easy to gather that a copy of an array is simply a new array that is a copy of the original array while view is simply a view of the original array.\n",
        "\n",
        "- The copy owns the data and any changes made to the copy will not affect original array, and any changes made to the original array will not affect the copy.\n",
        "\n",
        "- The view does not own the data and any changes made to the view will affect the original array, and any changes made to the original array will affect the view.\n",
        "\n",
        "Difference b/w copy and view can be clearly explained through examples. Let us make an array, a copy of the array, change the original array and display the two of them.\n",
        "\n",
        "**The copy is not affected by the changes made to the original array.**"
      ],
      "metadata": {
        "id": "Dt7XzF9ckejO"
      }
    },
    {
      "cell_type": "code",
      "source": [
        "arr_original = np.array([1, 2, 3, 4, 5])\n",
        "arr_copy = arr_original.copy()\n",
        "arr_original[0] = 8\n",
        "print(f\"The original array is: {arr_original}\")\n",
        "print(f\"The copy of the array is: {arr_copy}\")"
      ],
      "metadata": {
        "colab": {
          "base_uri": "https://localhost:8080/"
        },
        "id": "bHyn3SNvu7mG",
        "outputId": "1f210b6d-d3a3-4b8f-bc11-b973f60e5288"
      },
      "execution_count": 21,
      "outputs": [
        {
          "output_type": "stream",
          "name": "stdout",
          "text": [
            "The original array is: [8 2 3 4 5]\n",
            "The copy of the array is: [1 2 3 4 5]\n"
          ]
        }
      ]
    },
    {
      "cell_type": "markdown",
      "source": [
        "Let us replicate the same procedure but make a view of the array instead."
      ],
      "metadata": {
        "id": "H0xjd_c1wOsK"
      }
    },
    {
      "cell_type": "code",
      "source": [
        "arr_original = np.array([1, 2, 3, 4, 5])\n",
        "arr_view = arr_original.view()\n",
        "arr_original[0] = 8\n",
        "print(f\"The original array is: {arr_original}\")\n",
        "print(f\"The view of the array is: {arr_view}\")"
      ],
      "metadata": {
        "colab": {
          "base_uri": "https://localhost:8080/"
        },
        "id": "YqEA-Wmmw1t6",
        "outputId": "44f2e36e-aed5-4881-c0cf-b2846fdc8708"
      },
      "execution_count": 22,
      "outputs": [
        {
          "output_type": "stream",
          "name": "stdout",
          "text": [
            "The original array is: [8 2 3 4 5]\n",
            "The view of the array is: [8 2 3 4 5]\n"
          ]
        }
      ]
    },
    {
      "cell_type": "markdown",
      "source": [
        "Thus, **the view is affected by the changes made to the original array.** \n",
        "\n",
        "Let us create an array, make a view, change the view and display both the arrays."
      ],
      "metadata": {
        "id": "rG4uunhBwEiB"
      }
    },
    {
      "cell_type": "code",
      "source": [
        "arr_original = np.array([1, 2, 3, 4, 5])\n",
        "arr_view = arr_original.view()\n",
        "arr_view[0] = 8\n",
        "print(f\"The original array is: {arr_original}\")\n",
        "print(f\"The view of the array is: {arr_view}\")"
      ],
      "metadata": {
        "colab": {
          "base_uri": "https://localhost:8080/"
        },
        "id": "kVoNiknuzlXx",
        "outputId": "78c87ae3-1248-4d6c-ff02-44eb961851d7"
      },
      "execution_count": 23,
      "outputs": [
        {
          "output_type": "stream",
          "name": "stdout",
          "text": [
            "The original array is: [8 2 3 4 5]\n",
            "The view of the array is: [8 2 3 4 5]\n"
          ]
        }
      ]
    },
    {
      "cell_type": "markdown",
      "source": [
        "**The original array is affected by the changes made to the view.**"
      ],
      "metadata": {
        "id": "tj-5v9o7zwES"
      }
    },
    {
      "cell_type": "markdown",
      "source": [
        "#### **Check if array is a copy or view through ownership**"
      ],
      "metadata": {
        "id": "zMKILrzJ_CJc"
      }
    },
    {
      "cell_type": "code",
      "source": [
        "arr = np.array([1, 2, 3, 4, 5])\n",
        "\n",
        "x = arr.copy()\n",
        "y = arr.view()\n",
        "\n",
        "print(x.base)\n",
        "print(y.base)"
      ],
      "metadata": {
        "colab": {
          "base_uri": "https://localhost:8080/"
        },
        "id": "fvrCrV82_AcL",
        "outputId": "846b1ea0-98ca-4e77-b605-3a2da3801b82"
      },
      "execution_count": 24,
      "outputs": [
        {
          "output_type": "stream",
          "name": "stdout",
          "text": [
            "None\n",
            "[1 2 3 4 5]\n"
          ]
        }
      ]
    },
    {
      "cell_type": "markdown",
      "source": [
        "The copy returns `None` as there is no array that owns it. The view returns the original array as it has it's ownership."
      ],
      "metadata": {
        "id": "UpyO4JZN-51M"
      }
    },
    {
      "cell_type": "markdown",
      "source": [
        "### **NumPy Array Reshaping**\n",
        "Reshaping means changing the shape of an array. By reshaping, we can add or remove dimensions or change the number of elements in each dimension."
      ],
      "metadata": {
        "id": "pt3UU8Es0pCJ"
      }
    },
    {
      "cell_type": "code",
      "source": [
        "arr = np.array([1, 2, 3, 4, 5, 6, 7, 8, 9, 10, 11, 12])\n",
        "newarr = arr.reshape(4, 3)\n",
        "\n",
        "print(f\"The original array: {arr}\")\n",
        "print(f\"The re-shaped array is: {newarr}\")"
      ],
      "metadata": {
        "colab": {
          "base_uri": "https://localhost:8080/"
        },
        "id": "21PGSKRj4VQm",
        "outputId": "f4d41c25-1aab-4445-db98-14241eb3e5cb"
      },
      "execution_count": 25,
      "outputs": [
        {
          "output_type": "stream",
          "name": "stdout",
          "text": [
            "The original array: [ 1  2  3  4  5  6  7  8  9 10 11 12]\n",
            "The re-shaped array is: [[ 1  2  3]\n",
            " [ 4  5  6]\n",
            " [ 7  8  9]\n",
            " [10 11 12]]\n"
          ]
        }
      ]
    },
    {
      "cell_type": "code",
      "source": [
        "arr = np.array([1, 2, 3, 4, 5, 6, 7, 8, 9, 10, 11, 12])\n",
        "newarr = arr.reshape(2, 3, 2)\n",
        "\n",
        "print(f\"The original array: {arr}\")\n",
        "print(f\"The re-shaped array is: {newarr}\")"
      ],
      "metadata": {
        "colab": {
          "base_uri": "https://localhost:8080/"
        },
        "id": "pQ8JdE4_7SxF",
        "outputId": "9fceaa07-3330-41ab-968b-3652f79de119"
      },
      "execution_count": 26,
      "outputs": [
        {
          "output_type": "stream",
          "name": "stdout",
          "text": [
            "The original array: [ 1  2  3  4  5  6  7  8  9 10 11 12]\n",
            "The re-shaped array is: [[[ 1  2]\n",
            "  [ 3  4]\n",
            "  [ 5  6]]\n",
            "\n",
            " [[ 7  8]\n",
            "  [ 9 10]\n",
            "  [11 12]]]\n"
          ]
        }
      ]
    },
    {
      "cell_type": "markdown",
      "source": [
        "#### **Re-shape into any shape**\n",
        "We can re-shape an array into any shape as long as there are required number of elements to shape the array. \n",
        "\n",
        "For example, an 1-D array with 8 elements can be shaped into a (4, 2) as a (4, 2) array contains 4 x 2 = 8 elements. However, it cannot be shapped into a (3, 3) because a (3, 3) would required 3 x 3 = 9 elements; one more element than what is supplied."
      ],
      "metadata": {
        "id": "iS14gpEd8C-t"
      }
    },
    {
      "cell_type": "code",
      "source": [
        "arr = np.array([1, 2, 3, 4, 5, 6, 7, 8])\n",
        "newarr = arr.reshape(3, 3)\n",
        "\n",
        "print(f\"The re-shaped array is: {newarr}\")"
      ],
      "metadata": {
        "colab": {
          "base_uri": "https://localhost:8080/",
          "height": 217
        },
        "id": "Kbk-yicQ8w6D",
        "outputId": "decd2b7b-b6b1-4309-c640-1f9b52829651"
      },
      "execution_count": 27,
      "outputs": [
        {
          "output_type": "error",
          "ename": "ValueError",
          "evalue": "ignored",
          "traceback": [
            "\u001b[0;31m---------------------------------------------------------------------------\u001b[0m",
            "\u001b[0;31mValueError\u001b[0m                                Traceback (most recent call last)",
            "\u001b[0;32m<ipython-input-27-ca0f8820c420>\u001b[0m in \u001b[0;36m<module>\u001b[0;34m\u001b[0m\n\u001b[1;32m      1\u001b[0m \u001b[0marr\u001b[0m \u001b[0;34m=\u001b[0m \u001b[0mnp\u001b[0m\u001b[0;34m.\u001b[0m\u001b[0marray\u001b[0m\u001b[0;34m(\u001b[0m\u001b[0;34m[\u001b[0m\u001b[0;36m1\u001b[0m\u001b[0;34m,\u001b[0m \u001b[0;36m2\u001b[0m\u001b[0;34m,\u001b[0m \u001b[0;36m3\u001b[0m\u001b[0;34m,\u001b[0m \u001b[0;36m4\u001b[0m\u001b[0;34m,\u001b[0m \u001b[0;36m5\u001b[0m\u001b[0;34m,\u001b[0m \u001b[0;36m6\u001b[0m\u001b[0;34m,\u001b[0m \u001b[0;36m7\u001b[0m\u001b[0;34m,\u001b[0m \u001b[0;36m8\u001b[0m\u001b[0;34m]\u001b[0m\u001b[0;34m)\u001b[0m\u001b[0;34m\u001b[0m\u001b[0;34m\u001b[0m\u001b[0m\n\u001b[0;32m----> 2\u001b[0;31m \u001b[0mnewarr\u001b[0m \u001b[0;34m=\u001b[0m \u001b[0marr\u001b[0m\u001b[0;34m.\u001b[0m\u001b[0mreshape\u001b[0m\u001b[0;34m(\u001b[0m\u001b[0;36m3\u001b[0m\u001b[0;34m,\u001b[0m \u001b[0;36m3\u001b[0m\u001b[0;34m)\u001b[0m\u001b[0;34m\u001b[0m\u001b[0;34m\u001b[0m\u001b[0m\n\u001b[0m\u001b[1;32m      3\u001b[0m \u001b[0;34m\u001b[0m\u001b[0m\n\u001b[1;32m      4\u001b[0m \u001b[0mprint\u001b[0m\u001b[0;34m(\u001b[0m\u001b[0;34mf\"The re-shaped array is: {newarr}\"\u001b[0m\u001b[0;34m)\u001b[0m\u001b[0;34m\u001b[0m\u001b[0;34m\u001b[0m\u001b[0m\n",
            "\u001b[0;31mValueError\u001b[0m: cannot reshape array of size 8 into shape (3,3)"
          ]
        }
      ]
    },
    {
      "cell_type": "markdown",
      "source": [
        "#### **Unknown Dimension**\n",
        "You are allowed 1 unknown dimension. Pass -1 value and NumPy will calculate what that number should be accordingly."
      ],
      "metadata": {
        "id": "yRE7XhsP7X5l"
      }
    },
    {
      "cell_type": "code",
      "source": [
        "arr = np.array([1, 2, 3, 4, 5, 6, 7, 8])\n",
        "newarr = arr.reshape(2, 2, -1)"
      ],
      "metadata": {
        "id": "JfHsWhDR7XMP"
      },
      "execution_count": 28,
      "outputs": []
    },
    {
      "cell_type": "markdown",
      "source": [
        "### **NumPy Joining Array**\n",
        "Joining is obviously putting contents of two or more arrays into a single array. Joining arrays is done by axes. \n",
        "\n",
        "The `concatenate()` function accepts arrays to be joined along with the axis. If the axis is not explicitly stated, it takes the default value of 0.\n",
        "\n",
        "Along axis-0:\n"
      ],
      "metadata": {
        "id": "C_-159ZXDTfb"
      }
    },
    {
      "cell_type": "code",
      "source": [
        "arr1 = np.array([1, 2, 3])\n",
        "arr2 = np.array([4, 5, 6])\n",
        "arr = np.concatenate((arr1, arr2))\n",
        "print(arr)"
      ],
      "metadata": {
        "colab": {
          "base_uri": "https://localhost:8080/"
        },
        "id": "wclEyPplDSlb",
        "outputId": "42d189ed-16b8-4d92-b8b0-b869b02c5032"
      },
      "execution_count": 29,
      "outputs": [
        {
          "output_type": "stream",
          "name": "stdout",
          "text": [
            "[1 2 3 4 5 6]\n"
          ]
        }
      ]
    },
    {
      "cell_type": "markdown",
      "source": [
        "Along axis-1:"
      ],
      "metadata": {
        "id": "7tGJi4A4FZiL"
      }
    },
    {
      "cell_type": "code",
      "source": [
        "arr1 = np.array([[1, 2], [3, 4]])\n",
        "arr2 = np.array([[5, 6], [7, 8]])\n",
        "arr = np.concatenate((arr1, arr2), axis=1)\n",
        "print(arr)"
      ],
      "metadata": {
        "colab": {
          "base_uri": "https://localhost:8080/"
        },
        "id": "SQQvadM0FcmS",
        "outputId": "326e87a1-2385-4925-ba6f-38a5687e0fdc"
      },
      "execution_count": 30,
      "outputs": [
        {
          "output_type": "stream",
          "name": "stdout",
          "text": [
            "[[1 2 5 6]\n",
            " [3 4 7 8]]\n"
          ]
        }
      ]
    },
    {
      "cell_type": "markdown",
      "source": [
        "#### **Stacking**\n",
        "Stacking is the same as concatenation, the only difference is stacking is done along a new axis. \n",
        "\n",
        "2 1-D arrays can be joined along the second axis, by putting them one over the other."
      ],
      "metadata": {
        "id": "f81wt1OaFfca"
      }
    },
    {
      "cell_type": "code",
      "source": [
        "arr1 = np.array([1, 2, 3])\n",
        "arr2 = np.array([4, 5, 6])\n",
        "arr = np.stack((arr1, arr2), axis=1)\n",
        "print(arr)"
      ],
      "metadata": {
        "colab": {
          "base_uri": "https://localhost:8080/"
        },
        "id": "87m6FOQoGigK",
        "outputId": "c452948f-47a1-465a-bd1f-5ce16dad0d3b"
      },
      "execution_count": 31,
      "outputs": [
        {
          "output_type": "stream",
          "name": "stdout",
          "text": [
            "[[1 4]\n",
            " [2 5]\n",
            " [3 6]]\n"
          ]
        }
      ]
    },
    {
      "cell_type": "markdown",
      "source": [
        "To stack along rows, use `hstack()`."
      ],
      "metadata": {
        "id": "5Oy3SNUAHCFa"
      }
    },
    {
      "cell_type": "code",
      "source": [
        "arr1 = np.array([1, 2, 3])\n",
        "arr2 = np.array([4, 5, 6])\n",
        "arr = np.hstack((arr1, arr2))\n",
        "print(arr)"
      ],
      "metadata": {
        "colab": {
          "base_uri": "https://localhost:8080/"
        },
        "id": "VHrG9ErfHIDh",
        "outputId": "487f3eb8-550e-47be-930b-dd8b136d9780"
      },
      "execution_count": 32,
      "outputs": [
        {
          "output_type": "stream",
          "name": "stdout",
          "text": [
            "[1 2 3 4 5 6]\n"
          ]
        }
      ]
    },
    {
      "cell_type": "markdown",
      "source": [
        "To stack along columns, use `vstack()`."
      ],
      "metadata": {
        "id": "fpz9jAPXHKQZ"
      }
    },
    {
      "cell_type": "code",
      "source": [
        "arr1 = np.array([1, 2, 3])\n",
        "arr2 = np.array([4, 5, 6])\n",
        "arr = np.vstack((arr1, arr2))\n",
        "print(arr)"
      ],
      "metadata": {
        "colab": {
          "base_uri": "https://localhost:8080/"
        },
        "id": "zW4TKijQHPeh",
        "outputId": "17c4ac42-ee87-4ab1-8e6c-fac85a58920e"
      },
      "execution_count": 33,
      "outputs": [
        {
          "output_type": "stream",
          "name": "stdout",
          "text": [
            "[[1 2 3]\n",
            " [4 5 6]]\n"
          ]
        }
      ]
    },
    {
      "cell_type": "markdown",
      "source": [
        "To stack along height, which is the same as depth, use `dstack()`."
      ],
      "metadata": {
        "id": "aJR94qvsHshi"
      }
    },
    {
      "cell_type": "code",
      "source": [
        "arr1 = np.array([1, 2, 3])\n",
        "arr2 = np.array([4, 5, 6])\n",
        "arr = np.dstack((arr1, arr2))\n",
        "print(arr)"
      ],
      "metadata": {
        "colab": {
          "base_uri": "https://localhost:8080/"
        },
        "id": "HHu-3eG4HsAy",
        "outputId": "626b6ad4-4cfc-4774-8fa5-7ba087ecdc02"
      },
      "execution_count": 34,
      "outputs": [
        {
          "output_type": "stream",
          "name": "stdout",
          "text": [
            "[[[1 4]\n",
            "  [2 5]\n",
            "  [3 6]]]\n"
          ]
        }
      ]
    },
    {
      "cell_type": "markdown",
      "source": [
        "### **NumPy Splitting Array**\n",
        "Splitting is the reverse of joining. Joining merges multiple arrays into 1, while splitting breaks 1 array into multiple.\n",
        "\n",
        "Implemented using the `array_split()` function."
      ],
      "metadata": {
        "id": "4VQ7dBf7NOGQ"
      }
    },
    {
      "cell_type": "code",
      "source": [
        "arr = np.array([1, 2, 3, 4, 5, 6])\n",
        "newarr = np.array_split(arr, 3)\n",
        "print(f\"First array: {newarr[0]}\")\n",
        "print(f\"Second array: {newarr[1]}\")\n",
        "print(f\"Third array: {newarr[2]}\")"
      ],
      "metadata": {
        "colab": {
          "base_uri": "https://localhost:8080/"
        },
        "id": "GweSJRmVNwAn",
        "outputId": "7005a6fc-bfb0-447c-e8a0-c20702a1dc99"
      },
      "execution_count": 35,
      "outputs": [
        {
          "output_type": "stream",
          "name": "stdout",
          "text": [
            "First array: [1 2]\n",
            "Second array: [3 4]\n",
            "Third array: [5 6]\n"
          ]
        }
      ]
    },
    {
      "cell_type": "markdown",
      "source": [
        "If the array has less elements than required, it will adjust accordingly.\n",
        "A `split()` method also exists but it doesnt not adjust the elements when the elements are less in the source array."
      ],
      "metadata": {
        "id": "Bts0zYB6N9-i"
      }
    },
    {
      "cell_type": "code",
      "source": [
        "arr = np.array([1, 2, 3, 4, 5, 6])\n",
        "newarr = np.array_split(arr, 4)\n",
        "print(newarr)"
      ],
      "metadata": {
        "colab": {
          "base_uri": "https://localhost:8080/"
        },
        "id": "c-OEJy8BOQ2Y",
        "outputId": "c0d254da-3579-4ab9-dfaa-458986024954"
      },
      "execution_count": 36,
      "outputs": [
        {
          "output_type": "stream",
          "name": "stdout",
          "text": [
            "[array([1, 2]), array([3, 4]), array([5]), array([6])]\n"
          ]
        }
      ]
    },
    {
      "cell_type": "markdown",
      "source": [
        "Same syntax used while splitting 2-D arrays."
      ],
      "metadata": {
        "id": "fML2z2CsOzlX"
      }
    },
    {
      "cell_type": "code",
      "source": [
        "arr = np.array([[1, 2], [3, 4], [5, 6], [7, 8], [9, 10], [11, 12]])\n",
        "newarr = np.array_split(arr, 3)\n",
        "print(newarr)"
      ],
      "metadata": {
        "colab": {
          "base_uri": "https://localhost:8080/"
        },
        "id": "lUUu00DTO-EG",
        "outputId": "7ebb05f6-4ad5-43a1-dbe5-5527a6ecf5fd"
      },
      "execution_count": 37,
      "outputs": [
        {
          "output_type": "stream",
          "name": "stdout",
          "text": [
            "[array([[1, 2],\n",
            "       [3, 4]]), array([[5, 6],\n",
            "       [7, 8]]), array([[ 9, 10],\n",
            "       [11, 12]])]\n"
          ]
        }
      ]
    },
    {
      "cell_type": "markdown",
      "source": [
        "You can also specify the axis along which the split is to be performed."
      ],
      "metadata": {
        "id": "zlP-kwNUO_BH"
      }
    },
    {
      "cell_type": "code",
      "source": [
        "arr = np.array([[1, 2, 3], [4, 5, 6], [7, 8, 9], [10, 11, 12], [13, 14, 15], [16, 17, 18]])\n",
        "newarr = np.array_split(arr, 3, axis=1)\n",
        "print(newarr)"
      ],
      "metadata": {
        "colab": {
          "base_uri": "https://localhost:8080/"
        },
        "id": "YHER4GSrPHsn",
        "outputId": "48947784-9046-4641-e503-f392504b6db4"
      },
      "execution_count": 38,
      "outputs": [
        {
          "output_type": "stream",
          "name": "stdout",
          "text": [
            "[array([[ 1],\n",
            "       [ 4],\n",
            "       [ 7],\n",
            "       [10],\n",
            "       [13],\n",
            "       [16]]), array([[ 2],\n",
            "       [ 5],\n",
            "       [ 8],\n",
            "       [11],\n",
            "       [14],\n",
            "       [17]]), array([[ 3],\n",
            "       [ 6],\n",
            "       [ 9],\n",
            "       [12],\n",
            "       [15],\n",
            "       [18]])]\n"
          ]
        }
      ]
    },
    {
      "cell_type": "markdown",
      "source": [
        "### **NumPy Searching Arrays**\n",
        "To search an array, we use the `where()` method. Returns indices of numbers which fulfill the given condition."
      ],
      "metadata": {
        "id": "IAHD1hd4QFq3"
      }
    },
    {
      "cell_type": "code",
      "source": [
        "arr = np.array([1, 2, 3, 4, 5, 4, 4])\n",
        "print(np.where(arr == 4))"
      ],
      "metadata": {
        "colab": {
          "base_uri": "https://localhost:8080/"
        },
        "id": "YlneBtOvQgiu",
        "outputId": "b309c73b-54c8-445e-c5a9-9e1fbc5c9f2b"
      },
      "execution_count": 39,
      "outputs": [
        {
          "output_type": "stream",
          "name": "stdout",
          "text": [
            "(array([3, 5, 6]),)\n"
          ]
        }
      ]
    },
    {
      "cell_type": "markdown",
      "source": [
        "Can pass functions like find numbers divisible by 2, i.e., even numbers."
      ],
      "metadata": {
        "id": "lhpfOBlVQo1v"
      }
    },
    {
      "cell_type": "code",
      "source": [
        "arr = np.array([1, 2, 3, 4, 5, 6, 7, 8])\n",
        "print(np.where(arr%2 == 0))"
      ],
      "metadata": {
        "colab": {
          "base_uri": "https://localhost:8080/"
        },
        "id": "PUnPgdmiQz7v",
        "outputId": "25c095e8-e4ef-4f86-b77d-258c8d28dcc3"
      },
      "execution_count": 40,
      "outputs": [
        {
          "output_type": "stream",
          "name": "stdout",
          "text": [
            "(array([1, 3, 5, 7]),)\n"
          ]
        }
      ]
    },
    {
      "cell_type": "markdown",
      "source": [
        "### **Data Types in NumPy**\n",
        "NumPy comes with it's own fair share of datatypes, along with the default 5 python data types.\n",
        "\n",
        "- i - integer\n",
        "- b - boolean\n",
        "- u - unsigned integer\n",
        "- f - float\n",
        "- c - complex float\n",
        "- m - timedelta\n",
        "- M - datetime\n",
        "- O - object\n",
        "- S - string\n",
        "- U - unicode string\n",
        "- V - fixed chunk of memory for other type (void)"
      ],
      "metadata": {
        "id": "Q73WHHmNewiP"
      }
    },
    {
      "cell_type": "markdown",
      "source": [
        "#### **Checking Data Type of Array**\n",
        "`dtype` attribute returns the data type of the array."
      ],
      "metadata": {
        "id": "AUgmr0qlS5Xl"
      }
    },
    {
      "cell_type": "code",
      "source": [
        "arr = np.array([1, 2, 3])\n",
        "print(f\"Data Type of array: {arr.dtype}\")"
      ],
      "metadata": {
        "colab": {
          "base_uri": "https://localhost:8080/"
        },
        "id": "034fj934S1qW",
        "outputId": "b731714e-9583-4f56-dd48-28c9b028b5a2"
      },
      "execution_count": 41,
      "outputs": [
        {
          "output_type": "stream",
          "name": "stdout",
          "text": [
            "Data Type of array: int64\n"
          ]
        }
      ]
    },
    {
      "cell_type": "markdown",
      "source": [
        "The `array()` function also accepts `dtype` that allows us to define what the expected data type of the array elements must be. We can also define the size for `i`, `u`, `f`, `S`, and `U`."
      ],
      "metadata": {
        "id": "O57mlZdbTY1m"
      }
    },
    {
      "cell_type": "code",
      "source": [
        "arr = np.array([1, 2, 3], dtype='S')\n",
        "print(f\"arr: {arr}\")\n",
        "print(f\"Data Type of array: {arr.dtype}\")\n",
        "\n",
        "arr = np.array([1, 2, 3, 4], dtype='i4')\n",
        "print(f\"arr: {arr}\")\n",
        "print(f\"Data Type of array: {arr.dtype}\")"
      ],
      "metadata": {
        "colab": {
          "base_uri": "https://localhost:8080/"
        },
        "id": "jzUwVew9Tx2G",
        "outputId": "422950d0-c2ad-4cf8-89aa-4b61f57f87ce"
      },
      "execution_count": 42,
      "outputs": [
        {
          "output_type": "stream",
          "name": "stdout",
          "text": [
            "arr: [b'1' b'2' b'3']\n",
            "Data Type of array: |S1\n",
            "arr: [1 2 3 4]\n",
            "Data Type of array: int32\n"
          ]
        }
      ]
    },
    {
      "cell_type": "markdown",
      "source": [
        "#### **If a Value cannot be converted**\n",
        "NumPy will raise a ValueError."
      ],
      "metadata": {
        "id": "RV4-AV4_T_4X"
      }
    },
    {
      "cell_type": "code",
      "source": [
        "arr = np.array(['a', '1', '2', '3'], dtype='i')"
      ],
      "metadata": {
        "colab": {
          "base_uri": "https://localhost:8080/",
          "height": 165
        },
        "id": "0L97TCEUUJ3f",
        "outputId": "9f498ff7-9b1c-4910-b702-7e573cc227ff"
      },
      "execution_count": 43,
      "outputs": [
        {
          "output_type": "error",
          "ename": "ValueError",
          "evalue": "ignored",
          "traceback": [
            "\u001b[0;31m---------------------------------------------------------------------------\u001b[0m",
            "\u001b[0;31mValueError\u001b[0m                                Traceback (most recent call last)",
            "\u001b[0;32m<ipython-input-43-fb0072671552>\u001b[0m in \u001b[0;36m<module>\u001b[0;34m\u001b[0m\n\u001b[0;32m----> 1\u001b[0;31m \u001b[0marr\u001b[0m \u001b[0;34m=\u001b[0m \u001b[0mnp\u001b[0m\u001b[0;34m.\u001b[0m\u001b[0marray\u001b[0m\u001b[0;34m(\u001b[0m\u001b[0;34m[\u001b[0m\u001b[0;34m'a'\u001b[0m\u001b[0;34m,\u001b[0m \u001b[0;34m'1'\u001b[0m\u001b[0;34m,\u001b[0m \u001b[0;34m'2'\u001b[0m\u001b[0;34m,\u001b[0m \u001b[0;34m'3'\u001b[0m\u001b[0;34m]\u001b[0m\u001b[0;34m,\u001b[0m \u001b[0mdtype\u001b[0m\u001b[0;34m=\u001b[0m\u001b[0;34m'i'\u001b[0m\u001b[0;34m)\u001b[0m\u001b[0;34m\u001b[0m\u001b[0;34m\u001b[0m\u001b[0m\n\u001b[0m",
            "\u001b[0;31mValueError\u001b[0m: invalid literal for int() with base 10: 'a'"
          ]
        }
      ]
    },
    {
      "cell_type": "markdown",
      "source": [
        "#### **Converting datatype of existing arrays**\n",
        "\n",
        "The astype() function creates a copy of the array, and allows you to specify the data type as a parameter."
      ],
      "metadata": {
        "id": "9DCAt-6dUOdG"
      }
    },
    {
      "cell_type": "code",
      "source": [
        "arr = np.array([1.1, 2.1, 3.1])\n",
        "newarr = arr.astype('i')\n",
        "print(f\"arr: {newarr}\")\n",
        "print(f\"Data Type of array: {newarr.dtype}\")"
      ],
      "metadata": {
        "colab": {
          "base_uri": "https://localhost:8080/"
        },
        "id": "Ivc7ayFEUZzO",
        "outputId": "e1ec5f74-6a40-4f20-a347-5e138f93485a"
      },
      "execution_count": 44,
      "outputs": [
        {
          "output_type": "stream",
          "name": "stdout",
          "text": [
            "arr: [1 2 3]\n",
            "Data Type of array: int32\n"
          ]
        }
      ]
    },
    {
      "cell_type": "markdown",
      "source": [
        "### **NumPy Sorting Arrays**\n",
        "Orders elements according to a sequence. Implemented using the `sort()` function. String arrays are sorted alphabetically, numeric arrays are sorted in an ascending order, boolean are also sorted in an ascending order taking into consideration False is 0 and True is 1 and multidimensional arrays are sorted within it's dimensions."
      ],
      "metadata": {
        "id": "CgU3icqxRD5f"
      }
    },
    {
      "cell_type": "code",
      "source": [
        "arr = np.array([3, 2, 0, 1])\n",
        "print(f\"1-D integer array: {np.sort(arr)}\")\n",
        "\n",
        "arr = np.array(['banana', 'cherry', 'apple'])\n",
        "print(f\"1-D strings array: {np.sort(arr)}\")\n",
        "\n",
        "arr = np.array([True, False, True])\n",
        "print(f\"1-D boolean array: {np.sort(arr)}\")\n",
        "\n",
        "arr = np.array([[3, 2, 4], [5, 0, 1]])\n",
        "print(f\"2-D integer array: {np.sort(arr)}\")"
      ],
      "metadata": {
        "colab": {
          "base_uri": "https://localhost:8080/"
        },
        "id": "Mp7ToQrERCWn",
        "outputId": "42939094-b1af-4b18-d352-191caba1d185"
      },
      "execution_count": 45,
      "outputs": [
        {
          "output_type": "stream",
          "name": "stdout",
          "text": [
            "1-D integer array: [0 1 2 3]\n",
            "1-D strings array: ['apple' 'banana' 'cherry']\n",
            "1-D boolean array: [False  True  True]\n",
            "2-D integer array: [[2 3 4]\n",
            " [0 1 5]]\n"
          ]
        }
      ]
    }
  ]
}